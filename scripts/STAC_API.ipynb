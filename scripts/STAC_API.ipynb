{
  "cells": [
    {
      "cell_type": "markdown",
      "metadata": {
        "colab_type": "text",
        "id": "view-in-github"
      },
      "source": [
        "<a href=\"https://colab.research.google.com/github/ua-datalab/Geospatial_Workshops/blob/main/notebooks/STAC_crawl.ipynb\" target=\"_parent\"><img src=\"https://colab.research.google.com/assets/colab-badge.svg\" alt=\"Open In Colab\"/></a>"
      ]
    },
    {
      "cell_type": "markdown",
      "metadata": {
        "id": "qpkDUWF6vuN8"
      },
      "source": [
        "## SpatioTemporal Asset Catalog (STAC)\n",
        "This notebook demonstrates the use of pystac_client python library to crawl through and access geospatial assets from a STAC complient API."
      ]
    },
    {
      "cell_type": "code",
      "execution_count": 1,
      "metadata": {
        "id": "Tjm8JImJqpig"
      },
      "outputs": [
        {
          "name": "stdout",
          "output_type": "stream",
          "text": [
            "Collecting geopandas\n",
            "  Using cached geopandas-1.0.1-py3-none-any.whl.metadata (2.2 kB)\n",
            "Requirement already satisfied: numpy>=1.22 in /home/jgillan/miniconda3/envs/stac_api/lib/python3.12/site-packages (from geopandas) (1.26.4)\n",
            "Collecting pyogrio>=0.7.2 (from geopandas)\n",
            "  Using cached pyogrio-0.10.0-cp312-cp312-manylinux_2_28_x86_64.whl.metadata (5.5 kB)\n",
            "Requirement already satisfied: packaging in /home/jgillan/miniconda3/envs/stac_api/lib/python3.12/site-packages (from geopandas) (24.2)\n",
            "Collecting pandas>=1.4.0 (from geopandas)\n",
            "  Using cached pandas-2.2.3-cp312-cp312-manylinux_2_17_x86_64.manylinux2014_x86_64.whl.metadata (89 kB)\n",
            "Collecting pyproj>=3.3.0 (from geopandas)\n",
            "  Downloading pyproj-3.7.1-cp312-cp312-manylinux_2_17_x86_64.manylinux2014_x86_64.whl.metadata (31 kB)\n",
            "Requirement already satisfied: shapely>=2.0.0 in /home/jgillan/miniconda3/envs/stac_api/lib/python3.12/site-packages (from geopandas) (2.0.3)\n",
            "Requirement already satisfied: python-dateutil>=2.8.2 in /home/jgillan/miniconda3/envs/stac_api/lib/python3.12/site-packages (from pandas>=1.4.0->geopandas) (2.9.0.post0)\n",
            "Collecting pytz>=2020.1 (from pandas>=1.4.0->geopandas)\n",
            "  Downloading pytz-2025.1-py2.py3-none-any.whl.metadata (22 kB)\n",
            "Collecting tzdata>=2022.7 (from pandas>=1.4.0->geopandas)\n",
            "  Downloading tzdata-2025.1-py2.py3-none-any.whl.metadata (1.4 kB)\n",
            "Requirement already satisfied: certifi in /home/jgillan/miniconda3/envs/stac_api/lib/python3.12/site-packages (from pyogrio>=0.7.2->geopandas) (2025.1.31)\n",
            "Requirement already satisfied: six>=1.5 in /home/jgillan/miniconda3/envs/stac_api/lib/python3.12/site-packages (from python-dateutil>=2.8.2->pandas>=1.4.0->geopandas) (1.17.0)\n",
            "Using cached geopandas-1.0.1-py3-none-any.whl (323 kB)\n",
            "Using cached pandas-2.2.3-cp312-cp312-manylinux_2_17_x86_64.manylinux2014_x86_64.whl (12.7 MB)\n",
            "Using cached pyogrio-0.10.0-cp312-cp312-manylinux_2_28_x86_64.whl (24.0 MB)\n",
            "Downloading pyproj-3.7.1-cp312-cp312-manylinux_2_17_x86_64.manylinux2014_x86_64.whl (9.6 MB)\n",
            "\u001b[2K   \u001b[90m━━━━━━━━━━━━━━━━━━━━━━━━━━━━━━━━━━━━━━━━\u001b[0m \u001b[32m9.6/9.6 MB\u001b[0m \u001b[31m25.8 MB/s\u001b[0m eta \u001b[36m0:00:00\u001b[0m00:01\u001b[0m00:01\u001b[0m\n",
            "\u001b[?25hDownloading pytz-2025.1-py2.py3-none-any.whl (507 kB)\n",
            "\u001b[2K   \u001b[90m━━━━━━━━━━━━━━━━━━━━━━━━━━━━━━━━━━━━━━━━\u001b[0m \u001b[32m507.9/507.9 kB\u001b[0m \u001b[31m22.9 MB/s\u001b[0m eta \u001b[36m0:00:00\u001b[0m\n",
            "\u001b[?25hDownloading tzdata-2025.1-py2.py3-none-any.whl (346 kB)\n",
            "\u001b[2K   \u001b[90m━━━━━━━━━━━━━━━━━━━━━━━━━━━━━━━━━━━━━━━━\u001b[0m \u001b[32m346.8/346.8 kB\u001b[0m \u001b[31m23.6 MB/s\u001b[0m eta \u001b[36m0:00:00\u001b[0m\n",
            "\u001b[?25hInstalling collected packages: pytz, tzdata, pyproj, pyogrio, pandas, geopandas\n",
            "Successfully installed geopandas-1.0.1 pandas-2.2.3 pyogrio-0.10.0 pyproj-3.7.1 pytz-2025.1 tzdata-2025.1\n"
          ]
        }
      ],
      "source": [
        "# Install pystac_client. This library is used to crawl SpatioTemporal Asset Catalogs (STAC)\n",
        "!pip install pystac_client --quiet\n",
        "!pip install geopandas"
      ]
    },
    {
      "cell_type": "code",
      "execution_count": 2,
      "metadata": {
        "id": "j1mgkHQXq2Zz"
      },
      "outputs": [],
      "source": [
        "#Import the libraries into the current session\n",
        "\n",
        "import pystac_client\n",
        "import geopandas"
      ]
    },
    {
      "cell_type": "code",
      "execution_count": 3,
      "metadata": {},
      "outputs": [],
      "source": [
        "catalog = pystac_client.Client.open(\n",
        "    \"https://stac.cyverse.org\"\n",
        ")"
      ]
    },
    {
      "cell_type": "code",
      "execution_count": 4,
      "metadata": {
        "id": "1-iYtjUcxeZ9"
      },
      "outputs": [
        {
          "name": "stdout",
          "output_type": "stream",
          "text": [
            "Number of collections in the base catalog: 1\n",
            "ID: Open Forest Observatory\n"
          ]
        }
      ],
      "source": [
        "#Let's look at the collections within the root catalog\n",
        "collections = list(catalog.get_collections())\n",
        "\n",
        "# Print the number of collections\n",
        "print(f\"Number of collections in the base catalog: {len(collections)}\")\n",
        "\n",
        "# Print the names (or IDs) and descriptions of each collection\n",
        "for collection in collections:\n",
        "    print(f\"ID: {collection.id}\")"
      ]
    },
    {
      "cell_type": "code",
      "execution_count": null,
      "metadata": {},
      "outputs": [
        {
          "data": {
            "text/plain": [
              "321"
            ]
          },
          "execution_count": 8,
          "metadata": {},
          "output_type": "execute_result"
        }
      ],
      "source": [
        "#Search the collection to find the number of items\n",
        "\n",
        "search = catalog.search(collections=[\"Open Forest Observatory\"])\n",
        "items = search.item_collection()\n",
        "len(items)"
      ]
    },
    {
      "cell_type": "code",
      "execution_count": 5,
      "metadata": {
        "id": "iHRCMduYnXrZ"
      },
      "outputs": [],
      "source": [
        "#Create a custom spatial and temporal filter to find assets of interest\n",
        "\n",
        "time_range = \"2023-01-01/2024-12-31\"\n",
        "bbox = [-123.621, 38.32, -119.67, 40.293] #SW corner longitude/latitude ; NE corner longitude/latitude"
      ]
    },
    {
      "cell_type": "code",
      "execution_count": 6,
      "metadata": {
        "id": "scfnloHoq9Qa"
      },
      "outputs": [
        {
          "data": {
            "text/plain": [
              "167"
            ]
          },
          "execution_count": 6,
          "metadata": {},
          "output_type": "execute_result"
        }
      ],
      "source": [
        "#Search the collection to find imagery assets within my time-range and bounding box.\n",
        "\n",
        "search = catalog.search(collections=[\"Open Forest Observatory\"], bbox=bbox, datetime=time_range)\n",
        "items = search.item_collection()\n",
        "len(items)\n",
        "\n"
      ]
    },
    {
      "cell_type": "code",
      "execution_count": null,
      "metadata": {
        "id": "YNtgpdPqrIaD"
      },
      "outputs": [],
      "source": [
        "##Filter to find the item with the lowest cloud cover\n",
        "\n",
        "selected_item = items, key=lambda item: item.properties[\"eo:cloud_cover\"]\n",
        "print(selected_item)"
      ]
    },
    {
      "cell_type": "code",
      "execution_count": 36,
      "metadata": {},
      "outputs": [
        {
          "ename": "TypeError",
          "evalue": "'dict' object is not callable",
          "output_type": "error",
          "traceback": [
            "\u001b[0;31m---------------------------------------------------------------------------\u001b[0m",
            "\u001b[0;31mTypeError\u001b[0m                                 Traceback (most recent call last)",
            "Cell \u001b[0;32mIn[36], line 3\u001b[0m\n\u001b[1;32m      1\u001b[0m \u001b[38;5;66;03m# Filter items by platform\u001b[39;00m\n\u001b[1;32m      2\u001b[0m desired_platform \u001b[38;5;241m=\u001b[39m \u001b[38;5;124m\"\u001b[39m\u001b[38;5;124mPhantom 4 RTK\u001b[39m\u001b[38;5;124m\"\u001b[39m\n\u001b[0;32m----> 3\u001b[0m filtered_items \u001b[38;5;241m=\u001b[39m [item \u001b[38;5;28;01mfor\u001b[39;00m item \u001b[38;5;129;01min\u001b[39;00m items \u001b[38;5;28;01mif\u001b[39;00m item\u001b[38;5;241m.\u001b[39mproperties(\u001b[38;5;124m\"\u001b[39m\u001b[38;5;124mplatform\u001b[39m\u001b[38;5;124m\"\u001b[39m) \u001b[38;5;241m==\u001b[39m desired_platform]\n\u001b[1;32m      5\u001b[0m \u001b[38;5;28mprint\u001b[39m(\u001b[38;5;124mf\u001b[39m\u001b[38;5;124m\"\u001b[39m\u001b[38;5;124mNumber of items with platform \u001b[39m\u001b[38;5;124m'\u001b[39m\u001b[38;5;132;01m{\u001b[39;00mdesired_platform\u001b[38;5;132;01m}\u001b[39;00m\u001b[38;5;124m'\u001b[39m\u001b[38;5;124m: \u001b[39m\u001b[38;5;132;01m{\u001b[39;00m\u001b[38;5;28mlen\u001b[39m(filtered_items)\u001b[38;5;132;01m}\u001b[39;00m\u001b[38;5;124m\"\u001b[39m)\n",
            "Cell \u001b[0;32mIn[36], line 3\u001b[0m, in \u001b[0;36m<listcomp>\u001b[0;34m(.0)\u001b[0m\n\u001b[1;32m      1\u001b[0m \u001b[38;5;66;03m# Filter items by platform\u001b[39;00m\n\u001b[1;32m      2\u001b[0m desired_platform \u001b[38;5;241m=\u001b[39m \u001b[38;5;124m\"\u001b[39m\u001b[38;5;124mPhantom 4 RTK\u001b[39m\u001b[38;5;124m\"\u001b[39m\n\u001b[0;32m----> 3\u001b[0m filtered_items \u001b[38;5;241m=\u001b[39m [item \u001b[38;5;28;01mfor\u001b[39;00m item \u001b[38;5;129;01min\u001b[39;00m items \u001b[38;5;28;01mif\u001b[39;00m \u001b[43mitem\u001b[49m\u001b[38;5;241;43m.\u001b[39;49m\u001b[43mproperties\u001b[49m\u001b[43m(\u001b[49m\u001b[38;5;124;43m\"\u001b[39;49m\u001b[38;5;124;43mplatform\u001b[39;49m\u001b[38;5;124;43m\"\u001b[39;49m\u001b[43m)\u001b[49m \u001b[38;5;241m==\u001b[39m desired_platform]\n\u001b[1;32m      5\u001b[0m \u001b[38;5;28mprint\u001b[39m(\u001b[38;5;124mf\u001b[39m\u001b[38;5;124m\"\u001b[39m\u001b[38;5;124mNumber of items with platform \u001b[39m\u001b[38;5;124m'\u001b[39m\u001b[38;5;132;01m{\u001b[39;00mdesired_platform\u001b[38;5;132;01m}\u001b[39;00m\u001b[38;5;124m'\u001b[39m\u001b[38;5;124m: \u001b[39m\u001b[38;5;132;01m{\u001b[39;00m\u001b[38;5;28mlen\u001b[39m(filtered_items)\u001b[38;5;132;01m}\u001b[39;00m\u001b[38;5;124m\"\u001b[39m)\n",
            "\u001b[0;31mTypeError\u001b[0m: 'dict' object is not callable"
          ]
        }
      ],
      "source": [
        "# Filter items by platform\n",
        "desired_platform = \"Phantom 4 RTK\"\n",
        "filtered_items = [item for item in items if item.properties(\"platform\") == desired_platform]\n",
        "\n",
        "print(f\"Number of items with platform '{desired_platform}': {len(filtered_items)}\")"
      ]
    },
    {
      "cell_type": "code",
      "execution_count": null,
      "metadata": {
        "id": "cvBFVZRlrLJL"
      },
      "outputs": [],
      "source": [
        "# List all the assets for the selected item\n",
        "\n",
        "import rich.table\n",
        "\n",
        "table = rich.table.Table(\"Asset Key\", \"Description\", \"Asset Type\" )\n",
        "for asset_key, asset in selected_item.assets.items():\n",
        "    table.add_row(asset_key, asset.title, asset.media_type)\n",
        "\n",
        "table"
      ]
    },
    {
      "cell_type": "code",
      "execution_count": null,
      "metadata": {
        "id": "qQG9ID8vrNmU"
      },
      "outputs": [],
      "source": [
        "#Convert the 'rendered preview' asset into a dictionary\n",
        "\n",
        "selected_item.assets[\"rendered_preview\"].to_dict()"
      ]
    },
    {
      "cell_type": "code",
      "execution_count": null,
      "metadata": {
        "id": "qtNcgyyCrQuM"
      },
      "outputs": [],
      "source": [
        "#Display the 'rendered preview' asset of the item\n",
        "\n",
        "from IPython.display import Image\n",
        "\n",
        "Image(url=selected_item.assets[\"rendered_preview\"].href, width=500)"
      ]
    },
    {
      "cell_type": "code",
      "execution_count": null,
      "metadata": {
        "id": "hKheLwkUrjrv"
      },
      "outputs": [],
      "source": [
        "#Get the API endpoint (url) of the 'blue' band asset.\n",
        "\n",
        "selected_item.assets[\"blue\"].href"
      ]
    },
    {
      "cell_type": "code",
      "execution_count": null,
      "metadata": {
        "id": "HGBt1KmZzTLL"
      },
      "outputs": [],
      "source": [
        "##Get some info from the asset without downloading it\n",
        "## Get response code, file type, file size\n",
        "## We are looking for HTTP status code of 200\n",
        "\n",
        "import requests\n",
        "\n",
        "# Send a HEAD request to get the headers of the file\n",
        "response = requests.head(selected_item.assets[\"blue\"].href)\n",
        "\n",
        "# Retrieve the status code\n",
        "status_code = response.status_code\n",
        "\n",
        "# Initialize variables for file type and size\n",
        "file_type = None\n",
        "file_size_mb = None\n",
        "\n",
        "# Check if the Content-Type header exists\n",
        "if 'Content-Type' in response.headers:\n",
        "    file_type = response.headers['Content-Type']\n",
        "\n",
        "# Check if the Content-Length header exists and convert it to megabytes\n",
        "if 'Content-Length' in response.headers:\n",
        "    file_size_bytes = int(response.headers['Content-Length'])\n",
        "    file_size_mb = file_size_bytes / (1024 * 1024)  # Convert bytes to megabytes\n",
        "\n",
        "print(f\"Status Code: {status_code}\")\n",
        "print(f\"File Type: {file_type}\")\n",
        "print(f\"File Size: {file_size_mb:.2f} MB\")\n"
      ]
    },
    {
      "cell_type": "code",
      "execution_count": null,
      "metadata": {
        "id": "8_37wVYJuhte"
      },
      "outputs": [],
      "source": [
        "##Pull the selected asset (cloud optimized geotiff) into my notebook\n",
        "\n",
        "#install and import library for display\n",
        "!pip install rioxarray --quiet\n",
        "\n",
        "import rioxarray\n",
        "\n",
        "\n",
        "#Display the selected asset with coarser resolution.\n",
        "#The asset is a COG so it has overviews embedded\n",
        "\n",
        "ds = rioxarray.open_rasterio(\n",
        "    selected_item.assets[\"blue\"].href, overview_level=2\n",
        ").squeeze()\n",
        "img = ds.plot(cmap=\"viridis\", add_colorbar=False)\n",
        "img.axes.set_axis_off();"
      ]
    }
  ],
  "metadata": {
    "colab": {
      "authorship_tag": "ABX9TyOoAV6DdJ799a2DGqewjMR+",
      "include_colab_link": true,
      "provenance": []
    },
    "kernelspec": {
      "display_name": "stac_api",
      "language": "python",
      "name": "python3"
    },
    "language_info": {
      "codemirror_mode": {
        "name": "ipython",
        "version": 3
      },
      "file_extension": ".py",
      "mimetype": "text/x-python",
      "name": "python",
      "nbconvert_exporter": "python",
      "pygments_lexer": "ipython3",
      "version": "3.12.2"
    }
  },
  "nbformat": 4,
  "nbformat_minor": 0
}
